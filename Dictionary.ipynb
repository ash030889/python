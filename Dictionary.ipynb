{
  "nbformat": 4,
  "nbformat_minor": 0,
  "metadata": {
    "colab": {
      "provenance": [],
      "authorship_tag": "ABX9TyMrfV1QzFqanxKzNiqyS0Cw",
      "include_colab_link": true
    },
    "kernelspec": {
      "name": "python3",
      "display_name": "Python 3"
    },
    "language_info": {
      "name": "python"
    }
  },
  "cells": [
    {
      "cell_type": "markdown",
      "metadata": {
        "id": "view-in-github",
        "colab_type": "text"
      },
      "source": [
        "<a href=\"https://colab.research.google.com/github/ash030889/python/blob/main/Dictionary.ipynb\" target=\"_parent\"><img src=\"https://colab.research.google.com/assets/colab-badge.svg\" alt=\"Open In Colab\"/></a>"
      ]
    },
    {
      "cell_type": "code",
      "execution_count": 2,
      "metadata": {
        "colab": {
          "base_uri": "https://localhost:8080/"
        },
        "id": "SENYqAvIsCWm",
        "outputId": "909c1ea9-67a3-41b8-e3cf-81ac60fb8b3e"
      },
      "outputs": [
        {
          "output_type": "stream",
          "name": "stdout",
          "text": [
            "{'name': 'mona', 'age': 17}\n"
          ]
        }
      ],
      "source": [
        "dict1 = {'name' : 'mona', 'age' : 17}\n",
        "print(dict1)"
      ]
    },
    {
      "cell_type": "code",
      "source": [
        "print(dict1.get('name')) #access with get()"
      ],
      "metadata": {
        "colab": {
          "base_uri": "https://localhost:8080/"
        },
        "id": "iwsMcCCZsjAP",
        "outputId": "e4864bd4-0e38-4987-bd56-9309f6192145"
      },
      "execution_count": 3,
      "outputs": [
        {
          "output_type": "stream",
          "name": "stdout",
          "text": [
            "mona\n"
          ]
        }
      ]
    },
    {
      "cell_type": "code",
      "source": [
        "print(dict1.get('age'))"
      ],
      "metadata": {
        "colab": {
          "base_uri": "https://localhost:8080/"
        },
        "id": "9AX6WG_Os5XI",
        "outputId": "04ca0501-7abb-4795-ee08-579fb4ee6387"
      },
      "execution_count": 5,
      "outputs": [
        {
          "output_type": "stream",
          "name": "stdout",
          "text": [
            "17\n"
          ]
        }
      ]
    },
    {
      "cell_type": "code",
      "source": [
        "dict1['name']  #access with key"
      ],
      "metadata": {
        "colab": {
          "base_uri": "https://localhost:8080/",
          "height": 36
        },
        "id": "8DL1soe-s_Aj",
        "outputId": "3ac1ba55-3070-4764-fb07-1d08b012a400"
      },
      "execution_count": 7,
      "outputs": [
        {
          "output_type": "execute_result",
          "data": {
            "text/plain": [
              "'mona'"
            ],
            "application/vnd.google.colaboratory.intrinsic+json": {
              "type": "string"
            }
          },
          "metadata": {},
          "execution_count": 7
        }
      ]
    },
    {
      "cell_type": "code",
      "source": [
        "dict1['class'] = 12 #adding element\n",
        "print(dict1)"
      ],
      "metadata": {
        "colab": {
          "base_uri": "https://localhost:8080/"
        },
        "id": "kGz9SBB3tXZZ",
        "outputId": "6301ce1a-03a2-43a5-d5b4-556645eaa6fc"
      },
      "execution_count": 8,
      "outputs": [
        {
          "output_type": "stream",
          "name": "stdout",
          "text": [
            "{'name': 'mona', 'age': 17, 'class': 12}\n"
          ]
        }
      ]
    },
    {
      "cell_type": "code",
      "source": [
        "for x in dict1: #for loop (print one by one key)\n",
        "  print(x)"
      ],
      "metadata": {
        "colab": {
          "base_uri": "https://localhost:8080/"
        },
        "id": "MeHM-pEbuAsJ",
        "outputId": "1caf0bda-9f8b-4f50-8cb3-c1c2ea150f6b"
      },
      "execution_count": 9,
      "outputs": [
        {
          "output_type": "stream",
          "name": "stdout",
          "text": [
            "name\n",
            "age\n",
            "class\n"
          ]
        }
      ]
    },
    {
      "cell_type": "code",
      "source": [
        "for x in dict1:    #for loop (print one by one value)\n",
        "  print(dict1.get(x))"
      ],
      "metadata": {
        "colab": {
          "base_uri": "https://localhost:8080/"
        },
        "id": "8wHZVMHIuMbO",
        "outputId": "34922ff1-375b-4fe1-d50f-186297395855"
      },
      "execution_count": 14,
      "outputs": [
        {
          "output_type": "stream",
          "name": "stdout",
          "text": [
            "mona\n",
            "17\n",
            "12\n"
          ]
        }
      ]
    },
    {
      "cell_type": "code",
      "source": [
        "#create nested dictionaries\n",
        "family = {\n",
        "    'child1' : {\n",
        "        'name' : 'meena',\n",
        "        'age'  : 12\n",
        "    },\n",
        "    'child2' : {\n",
        "        'name' : 'ritu',\n",
        "        'age'  : 8\n",
        "    }\n",
        "}\n",
        "print(family)"
      ],
      "metadata": {
        "colab": {
          "base_uri": "https://localhost:8080/"
        },
        "id": "VzwOnEEVumlk",
        "outputId": "8db1920f-1780-44c0-e59c-4acaed24086c"
      },
      "execution_count": 15,
      "outputs": [
        {
          "output_type": "stream",
          "name": "stdout",
          "text": [
            "{'child1': {'name': 'meena', 'age': 12}, 'child2': {'name': 'ritu', 'age': 8}}\n"
          ]
        }
      ]
    },
    {
      "cell_type": "code",
      "source": [
        "#3 three dictionaries in one dictionary\n",
        "stu1 = {\n",
        "    'name' : 'raj',\n",
        "    'class' : 10\n",
        "}\n",
        "stu2 = {\n",
        "    'name' : 'ritu',\n",
        "    'class' : 8\n",
        "}\n",
        "stu3 = {\n",
        "    'name' : 'max',\n",
        "    'class' : 5\n",
        "}\n",
        "school = {\n",
        "    'stu1' : stu1,\n",
        "    'stu2' : stu2,\n",
        "    'stu3' : stu3\n",
        "}\n",
        "print(school)"
      ],
      "metadata": {
        "colab": {
          "base_uri": "https://localhost:8080/"
        },
        "id": "LRJhOvcMwH_Q",
        "outputId": "ef87c47b-4d00-48fa-91d6-9565e1551da6"
      },
      "execution_count": 16,
      "outputs": [
        {
          "output_type": "stream",
          "name": "stdout",
          "text": [
            "{'stu1': {'name': 'raj', 'class': 10}, 'stu2': {'name': 'ritu', 'class': 8}, 'stu3': {'name': 'max', 'class': 5}}\n"
          ]
        }
      ]
    },
    {
      "cell_type": "code",
      "source": [],
      "metadata": {
        "id": "k2C8a7HPxKwH"
      },
      "execution_count": null,
      "outputs": []
    }
  ]
}