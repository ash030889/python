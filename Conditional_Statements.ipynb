{
  "nbformat": 4,
  "nbformat_minor": 0,
  "metadata": {
    "colab": {
      "provenance": [],
      "include_colab_link": true
    },
    "kernelspec": {
      "name": "python3",
      "display_name": "Python 3"
    },
    "language_info": {
      "name": "python"
    }
  },
  "cells": [
    {
      "cell_type": "markdown",
      "metadata": {
        "id": "view-in-github",
        "colab_type": "text"
      },
      "source": [
        "<a href=\"https://colab.research.google.com/github/ash030889/python/blob/main/Conditional_Statements.ipynb\" target=\"_parent\"><img src=\"https://colab.research.google.com/assets/colab-badge.svg\" alt=\"Open In Colab\"/></a>"
      ]
    },
    {
      "cell_type": "markdown",
      "source": [
        "Take three numbers 'x', 'y' and 'z' as input from the user and check which number is greater\n"
      ],
      "metadata": {
        "id": "AcR_27Hh5QTe"
      }
    },
    {
      "cell_type": "code",
      "source": [
        "x = int(input('enter the number x  '))\n",
        "y = int(input('enter the number y  '))\n",
        "z = int(input('enter the number z  '))\n",
        "if x>y and x>z:\n",
        "  print('x is greater')\n",
        "elif y>x and y>z:\n",
        "  print('y is greater')\n",
        "else:\n",
        "  print('z is greater')"
      ],
      "metadata": {
        "colab": {
          "base_uri": "https://localhost:8080/"
        },
        "id": "zq1LXPj0UczZ",
        "outputId": "090f32bf-845f-4ff8-b516-dbe557d174f4"
      },
      "execution_count": null,
      "outputs": [
        {
          "output_type": "stream",
          "name": "stdout",
          "text": [
            "enter the number x  42\n",
            "enter the number y  75\n",
            "enter the number z  41\n",
            "y is greater\n"
          ]
        }
      ]
    },
    {
      "cell_type": "markdown",
      "source": [
        "Take an alphabet as input from the user and check if the alphabet is a vowel, consonant or an exception\n",
        "\n",
        "\n",
        "Vowel - 'a','e','i','o','u'\n",
        "\n",
        "Exception - 'h', 'y'\n",
        "\n",
        "Consonant - rest other alphabets"
      ],
      "metadata": {
        "id": "QgkCsQlx4c5Y"
      }
    },
    {
      "cell_type": "code",
      "source": [
        "w = input('enter the alphabet  ')\n",
        "vowel = set('aeiou')\n",
        "exception = set('hy')\n",
        "if w in vowel:\n",
        "  print('Vowel')\n",
        "elif w in exception:\n",
        "  print('Exception')\n",
        "else:\n",
        "  print('Consonant')"
      ],
      "metadata": {
        "id": "wXCZPH6FVd8B",
        "colab": {
          "base_uri": "https://localhost:8080/"
        },
        "outputId": "c10b192f-54e6-4aa0-dc30-bfbc167c3ae3"
      },
      "execution_count": null,
      "outputs": [
        {
          "output_type": "stream",
          "name": "stdout",
          "text": [
            "enter the alphabet  c\n",
            "Consonant\n"
          ]
        }
      ]
    },
    {
      "cell_type": "markdown",
      "source": [
        "Write a program to check whether a number given by a user is divisible by 2 and 3 both"
      ],
      "metadata": {
        "id": "5TqcIsuG4N4x"
      }
    },
    {
      "cell_type": "code",
      "source": [
        "n = int(input('enter the number  '))\n",
        "Write a program to check whether a number given by a user is divisible by 2 and 3 both\n",
        "if n%2==0 and n%3==0:\n",
        "  print('divisible by 2 and 3')\n",
        "else:\n",
        "  print('not divisible by 2 and 3')"
      ],
      "metadata": {
        "colab": {
          "base_uri": "https://localhost:8080/"
        },
        "id": "11ZM_GClrYa3",
        "outputId": "4e5eaf2e-4048-4a3f-f1bd-103fd2ea3f6b"
      },
      "execution_count": null,
      "outputs": [
        {
          "output_type": "stream",
          "name": "stdout",
          "text": [
            "enter the number  172\n",
            "not divisible by 2 and 3\n"
          ]
        }
      ]
    },
    {
      "cell_type": "markdown",
      "source": [
        "Write a program to accept the cost price  of a bike as input and display the road tax to be paid according to the following crieteria :-\n",
        "\n",
        "Cost price - 100000 Tax - 15%\n",
        "\n",
        "Cost price - between 50000 to 100000 Tax - 10%\n",
        "\n",
        "Cost price - less than 50000 Tax - 5%"
      ],
      "metadata": {
        "id": "Vl0l7eM93o-k"
      }
    },
    {
      "cell_type": "code",
      "source": [
        "c = int(input('enter the cost price of a bike  '))\n",
        "if c<50000:\n",
        "  print('the road tax to be paid  ', c*0.05)\n",
        "elif 50000<=c<100000:\n",
        "  print('the road tax to be paid  ', c*0.1)\n",
        "else:\n",
        "  print('the road tax to be paid  ', c*0.15)"
      ],
      "metadata": {
        "colab": {
          "base_uri": "https://localhost:8080/"
        },
        "id": "NHp_uPLRsl1O",
        "outputId": "5bed5595-9008-44f3-f9bb-63af50e1f506"
      },
      "execution_count": null,
      "outputs": [
        {
          "output_type": "stream",
          "name": "stdout",
          "text": [
            "enter the cost price of a bike  60000\n",
            "the road tax to be paid   6000.0\n"
          ]
        }
      ]
    },
    {
      "cell_type": "markdown",
      "source": [
        "Write a program to calculate the electricity bill by accepting the number of units consumed by the user as input. Use the following price chart for reference :-\n",
        "\n",
        "Price of first 100 units - no charge\n",
        "\n",
        "Price of next 100 units - Rs 5/- per unit\n",
        "\n",
        "After 200 units - Rs 10/- per unit"
      ],
      "metadata": {
        "id": "4qwB-dyV2vdv"
      }
    },
    {
      "cell_type": "code",
      "source": [
        "u = int(input('enter the number of units consumed by the user  '))\n",
        "if u<=100:\n",
        "  print('no charge')\n",
        "elif 100<u<=200:\n",
        "  print('calculate the electricity bill is  ', (u-100)*5)\n",
        "else:\n",
        "  print('calculate the electricity bill is  ', 500+(u-200)*10)"
      ],
      "metadata": {
        "colab": {
          "base_uri": "https://localhost:8080/"
        },
        "id": "VYMNw1m9t6u_",
        "outputId": "4b8f85db-0f15-4f13-8103-5a6b63ed865f"
      },
      "execution_count": 3,
      "outputs": [
        {
          "output_type": "stream",
          "name": "stdout",
          "text": [
            "enter the number of units consumed by the user  275\n",
            "calculate the electricity bill is   1250\n"
          ]
        }
      ]
    },
    {
      "cell_type": "code",
      "source": [],
      "metadata": {
        "id": "fpnYOox2SzQ2"
      },
      "execution_count": null,
      "outputs": []
    }
  ]
}