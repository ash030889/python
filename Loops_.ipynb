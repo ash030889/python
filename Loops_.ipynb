{
  "nbformat": 4,
  "nbformat_minor": 0,
  "metadata": {
    "colab": {
      "provenance": [],
      "include_colab_link": true
    },
    "kernelspec": {
      "name": "python3",
      "display_name": "Python 3"
    },
    "language_info": {
      "name": "python"
    }
  },
  "cells": [
    {
      "cell_type": "markdown",
      "metadata": {
        "id": "view-in-github",
        "colab_type": "text"
      },
      "source": [
        "<a href=\"https://colab.research.google.com/github/ash030889/python/blob/main/Loops_.ipynb\" target=\"_parent\"><img src=\"https://colab.research.google.com/assets/colab-badge.svg\" alt=\"Open In Colab\"/></a>"
      ]
    },
    {
      "cell_type": "markdown",
      "source": [
        "Write a program which accepts month's name as input and display the number of days in the month as output"
      ],
      "metadata": {
        "id": "MdAkQQ_Y4wwG"
      }
    },
    {
      "cell_type": "code",
      "source": [
        "m = input('enter the month name ')\n",
        "if m in ('feb'):\n",
        "  print('28/29 days')\n",
        "elif m in ('jan', 'mar', 'may', 'jul', 'aug', 'oct', 'dec'):\n",
        "  print('31 days')\n",
        "elif m in ('apr', 'jun', 'sep', 'nov'):\n",
        "  print('30 days')\n",
        "else:\n",
        "  print('please enter the correct month name')"
      ],
      "metadata": {
        "colab": {
          "base_uri": "https://localhost:8080/"
        },
        "id": "jesi9afkcHJ_",
        "outputId": "5b66ecb9-01b5-40d5-c494-bf31c553b108"
      },
      "execution_count": null,
      "outputs": [
        {
          "output_type": "stream",
          "name": "stdout",
          "text": [
            "enter the month name jun\n",
            "30 days\n"
          ]
        }
      ]
    },
    {
      "cell_type": "markdown",
      "source": [
        "Take any word as input from the user and count the number of vowels in the word"
      ],
      "metadata": {
        "id": "Q8cCBC198J6M"
      }
    },
    {
      "cell_type": "code",
      "source": [
        "w = input('enter the word  ')\n",
        "vowel = set('aeiou')\n",
        "vowel_count = 0\n",
        "for x in w:\n",
        "  if x in vowel:\n",
        "    vowel_count = vowel_count + 1\n",
        "print('number of vowel in word ', vowel_count )"
      ],
      "metadata": {
        "colab": {
          "base_uri": "https://localhost:8080/"
        },
        "id": "9EuWW8j2dY8R",
        "outputId": "5cdb8297-e838-41b8-80f6-3637b9817b97"
      },
      "execution_count": null,
      "outputs": [
        {
          "output_type": "stream",
          "name": "stdout",
          "text": [
            "enter the word  ankit\n",
            "number of vowel in word  2\n"
          ]
        }
      ]
    },
    {
      "cell_type": "markdown",
      "source": [
        "Write a program to separate even and odd numbers in two distinct lists from a list of numbers of your choice"
      ],
      "metadata": {
        "id": "1ugWwVXd49OI"
      }
    },
    {
      "cell_type": "code",
      "source": [
        "l = [1,2,3,4,5,6,7,8,9,10]\n",
        "l_even = []\n",
        "l_odd = []\n",
        "for x in l:\n",
        "  if x%2==0:\n",
        "    l_even.append(x)\n",
        "  else:\n",
        "    l_odd.append(x)\n",
        "print(l_even)\n",
        "print(l_odd)\n"
      ],
      "metadata": {
        "colab": {
          "base_uri": "https://localhost:8080/"
        },
        "id": "UF9UtTBDn7rh",
        "outputId": "c30d591d-c609-462b-c994-520332c4dbf5"
      },
      "execution_count": null,
      "outputs": [
        {
          "output_type": "stream",
          "name": "stdout",
          "text": [
            "[2, 4, 6, 8, 10]\n",
            "[1, 3, 5, 7, 9]\n"
          ]
        }
      ]
    },
    {
      "cell_type": "markdown",
      "source": [
        "Write a program that appends datatype of elements from a list to a separate list"
      ],
      "metadata": {
        "id": "uaqnGrhs49Mf"
      }
    },
    {
      "cell_type": "code",
      "source": [
        "my_list = [12,1.5,True,'max']\n",
        "d_list = []\n",
        "for x in my_list:\n",
        "  d_list.append(type(x))\n",
        "print(d_list)"
      ],
      "metadata": {
        "colab": {
          "base_uri": "https://localhost:8080/"
        },
        "id": "6_bwPqapkObH",
        "outputId": "77c4febf-fc22-4c19-ba8b-bb9fff1f1bf7"
      },
      "execution_count": null,
      "outputs": [
        {
          "output_type": "stream",
          "name": "stdout",
          "text": [
            "[<class 'int'>, <class 'float'>, <class 'bool'>, <class 'str'>]\n"
          ]
        }
      ]
    },
    {
      "cell_type": "markdown",
      "source": [
        "Write a program to display only those numbers from a list that satisfies the following conditions:\n",
        "\n",
        "1. The number must be divisible by 7\n",
        "\n",
        "2. If the number is 140 then skip it and move to the next number in the list\n",
        "\n",
        "3. If the number in the list is greater than 630 then stop the loop"
      ],
      "metadata": {
        "id": "ddMu0Pj1643Y"
      }
    },
    {
      "cell_type": "code",
      "source": [
        "my_list = [14,15,140,225,450,630,770,810]\n",
        "for x in my_list:\n",
        "  if x%7==0:\n",
        "    print(x)"
      ],
      "metadata": {
        "colab": {
          "base_uri": "https://localhost:8080/"
        },
        "id": "HThXO4bKiIS-",
        "outputId": "38f5f061-fcaf-4ec1-e7cf-c8fb340d82fa"
      },
      "execution_count": null,
      "outputs": [
        {
          "output_type": "stream",
          "name": "stdout",
          "text": [
            "14\n",
            "140\n",
            "630\n",
            "770\n"
          ]
        }
      ]
    },
    {
      "cell_type": "code",
      "source": [
        "for x in my_list:\n",
        "  if x == 140:\n",
        "    continue\n",
        "  print(x)"
      ],
      "metadata": {
        "colab": {
          "base_uri": "https://localhost:8080/"
        },
        "id": "6nBJUplqibu6",
        "outputId": "bd60d80b-fd18-42c9-f2d6-d7262f656329"
      },
      "execution_count": null,
      "outputs": [
        {
          "output_type": "stream",
          "name": "stdout",
          "text": [
            "14\n",
            "15\n",
            "225\n",
            "450\n",
            "630\n",
            "770\n",
            "810\n"
          ]
        }
      ]
    },
    {
      "cell_type": "code",
      "source": [
        "for x in my_list:\n",
        "  if x>630:\n",
        "    break\n",
        "  print(x)"
      ],
      "metadata": {
        "id": "gkfKxI2Ii1qu",
        "colab": {
          "base_uri": "https://localhost:8080/"
        },
        "outputId": "9ea51115-7ab4-4058-907d-e6e98eb39ca0"
      },
      "execution_count": null,
      "outputs": [
        {
          "output_type": "stream",
          "name": "stdout",
          "text": [
            "14\n",
            "15\n",
            "140\n",
            "225\n",
            "450\n",
            "630\n"
          ]
        }
      ]
    }
  ]
}